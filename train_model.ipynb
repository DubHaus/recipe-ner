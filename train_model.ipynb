{
 "cells": [
  {
   "cell_type": "code",
   "execution_count": 1,
   "id": "353f13e0-aca2-40fd-add8-216920f072e4",
   "metadata": {},
   "outputs": [],
   "source": [
    "import spacy\n",
    "from spacy.tokens import DocBin\n",
    "from tqdm import tqdm\n",
    "\n",
    "nlp = spacy.blank(\"en\") # load a new spacy model\n",
    "db = DocBin() # create a DocBin object\n"
   ]
  },
  {
   "cell_type": "code",
   "execution_count": 2,
   "id": "507ffa54-abf1-43fa-bf99-8f074bc18b1d",
   "metadata": {},
   "outputs": [],
   "source": [
    "import json\n",
    "f = open('./data/dataset.json')\n",
    "TRAIN_DATA = json.load(f)\n"
   ]
  },
  {
   "cell_type": "code",
   "execution_count": 5,
   "id": "e65cf164-27d8-43ee-baf4-31c5402454c5",
   "metadata": {},
   "outputs": [
    {
     "name": "stderr",
     "output_type": "stream",
     "text": [
      "100%|██████████| 4500/4500 [00:03<00:00, 1273.25it/s]\n",
      "100%|██████████| 1588/1588 [00:00<00:00, 1737.99it/s]\n"
     ]
    }
   ],
   "source": [
    "for text, annot in tqdm(TRAIN_DATA[0: 4500]): \n",
    "    doc = nlp.make_doc(text) \n",
    "    ents = []\n",
    "    for start, end, label in annot[\"entities\"]:\n",
    "        span = doc.char_span(start, end, label=label, alignment_mode=\"contract\")\n",
    "        if span is None:\n",
    "            print(\"Skipping entity\")\n",
    "        else:\n",
    "            ents.append(span)\n",
    "    doc.ents = ents \n",
    "    db.add(doc)\n",
    "\n",
    "db.to_disk(\"./data/training_data.spacy\") # save the docbin object\n",
    "\n",
    "for text, annot in tqdm(TRAIN_DATA[4500:]): \n",
    "    doc = nlp.make_doc(text) \n",
    "    ents = []\n",
    "    for start, end, label in annot[\"entities\"]:\n",
    "        span = doc.char_span(start, end, label=label, alignment_mode=\"contract\")\n",
    "        if span is None:\n",
    "            print(\"Skipping entity\")\n",
    "        else:\n",
    "            ents.append(span)\n",
    "    doc.ents = ents \n",
    "    db.add(doc)\n",
    "\n",
    "db.to_disk(\"./data/validating_data.spacy\") # save the docbin object\n"
   ]
  },
  {
   "cell_type": "code",
   "execution_count": 6,
   "id": "b178e8c4-3eec-4234-80cd-1bf27b60e635",
   "metadata": {},
   "outputs": [
    {
     "name": "stdout",
     "output_type": "stream",
     "text": [
      "\u001b[38;5;4mℹ Saving to output directory: dist\u001b[0m\n",
      "\u001b[38;5;4mℹ Using CPU\u001b[0m\n",
      "\u001b[1m\n",
      "=========================== Initializing pipeline ===========================\u001b[0m\n",
      "[2022-03-02 07:51:52,020] [INFO] Set up nlp object from config\n",
      "[2022-03-02 07:51:52,037] [INFO] Pipeline: ['tok2vec', 'ner']\n",
      "[2022-03-02 07:51:52,043] [INFO] Created vocabulary\n",
      "[2022-03-02 07:51:52,044] [INFO] Finished initializing nlp object\n",
      "[2022-03-02 07:52:37,698] [INFO] Initialized pipeline components: ['tok2vec', 'ner']\n",
      "\u001b[38;5;2m✔ Initialized pipeline\u001b[0m\n",
      "\u001b[1m\n",
      "============================= Training pipeline =============================\u001b[0m\n",
      "\u001b[38;5;4mℹ Pipeline: ['tok2vec', 'ner']\u001b[0m\n",
      "\u001b[38;5;4mℹ Initial learn rate: 0.001\u001b[0m\n",
      "E    #       LOSS TOK2VEC  LOSS NER  ENTS_F  ENTS_P  ENTS_R  SCORE \n",
      "---  ------  ------------  --------  ------  ------  ------  ------\n",
      "  0       0          0.00     48.83    0.12    3.89    0.06    0.00\n",
      "  0     200         70.04   1934.32   99.80   99.84   99.76    1.00\n",
      "  0     400         12.56     15.90   99.98  100.00   99.96    1.00\n",
      "  0     600         11.56     13.16   99.96   99.96   99.96    1.00\n",
      "  0     800         24.15     20.20   99.98   99.98   99.98    1.00\n",
      "  1    1000          1.94      0.61   99.98   99.98   99.98    1.00\n",
      "  1    1200          7.24      4.58  100.00  100.00  100.00    1.00\n",
      "  2    1400         22.55     11.48  100.00  100.00  100.00    1.00\n",
      "  2    1600          1.94      1.46  100.00  100.00  100.00    1.00\n",
      "  3    1800         32.40     15.33  100.00  100.00  100.00    1.00\n",
      "  4    2000         48.15     16.07  100.00  100.00  100.00    1.00\n",
      "  5    2200          3.82      1.70  100.00  100.00  100.00    1.00\n",
      "  7    2400          0.00      0.00  100.00  100.00  100.00    1.00\n",
      "  8    2600          0.00      0.00  100.00  100.00  100.00    1.00\n",
      " 10    2800          0.00      0.00  100.00  100.00  100.00    1.00\n",
      "\u001b[38;5;2m✔ Saved pipeline to output directory\u001b[0m\n",
      "dist/model-last\n"
     ]
    }
   ],
   "source": [
    "! python -m spacy train config.cfg --output ./dist --paths.train ./data/training_data.spacy --paths.dev ./data/validating_data.spacy"
   ]
  },
  {
   "cell_type": "code",
   "execution_count": 7,
   "id": "e2fa721d-d4d8-4cbe-89b8-7dfbcb518fa7",
   "metadata": {},
   "outputs": [],
   "source": [
    "nlp_ner = spacy.load(\"./dist/model-best\")"
   ]
  },
  {
   "cell_type": "code",
   "execution_count": 9,
   "id": "f053eaec-f46c-42c9-b73d-c1649e9fd6af",
   "metadata": {},
   "outputs": [
    {
     "name": "stdout",
     "output_type": "stream",
     "text": [
      "[]\n",
      "CPU times: user 7.2 ms, sys: 2.43 ms, total: 9.63 ms\n",
      "Wall time: 18.2 ms\n"
     ]
    }
   ],
   "source": [
    "%%time\n",
    "doc = nlp_ner(\"I want to cook something\")\n",
    "print([(ent.text, ent.label_) for ent in doc.ents])"
   ]
  },
  {
   "cell_type": "code",
   "execution_count": null,
   "id": "a2398296-b1c2-43fb-b20b-8d41eb4531a4",
   "metadata": {},
   "outputs": [],
   "source": []
  }
 ],
 "metadata": {
  "kernelspec": {
   "display_name": "Python 3 (ipykernel)",
   "language": "python",
   "name": "python3"
  },
  "language_info": {
   "codemirror_mode": {
    "name": "ipython",
    "version": 3
   },
   "file_extension": ".py",
   "mimetype": "text/x-python",
   "name": "python",
   "nbconvert_exporter": "python",
   "pygments_lexer": "ipython3",
   "version": "3.7.9"
  }
 },
 "nbformat": 4,
 "nbformat_minor": 5
}
